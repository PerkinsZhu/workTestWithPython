{
 "cells": [
  {
   "cell_type": "code",
   "execution_count": 13,
   "id": "67c19a84",
   "metadata": {},
   "outputs": [],
   "source": [
    "from numpy import *\n",
    "import operator\n"
   ]
  },
  {
   "cell_type": "code",
   "execution_count": 23,
   "id": "b18d02b4",
   "metadata": {},
   "outputs": [],
   "source": [
    "group = array([[1.0, 1.1], [1.0, 1.0], [0, 0],[0, 0.1]])\n",
    "labels = ['A', 'A', 'B', 'B']"
   ]
  },
  {
   "cell_type": "code",
   "execution_count": 19,
   "id": "4d557073",
   "metadata": {},
   "outputs": [],
   "source": [
    "def classify_01(in_X, dataSet, label, K):\n",
    "    data_set_size = dataSet.shape[0]\n",
    "    dif_mat = tile(in_X,(data_set_size,1))\n",
    "    return None"
   ]
  },
  {
   "cell_type": "code",
   "execution_count": 25,
   "id": "3a15f4a8",
   "metadata": {},
   "outputs": [],
   "source": [
    "res = classify_01([0,0],group,labels,3)"
   ]
  },
  {
   "cell_type": "code",
   "execution_count": null,
   "id": "1379f838",
   "metadata": {},
   "outputs": [],
   "source": []
  }
 ],
 "metadata": {
  "kernelspec": {
   "display_name": "Python 3",
   "language": "python",
   "name": "python3"
  },
  "language_info": {
   "codemirror_mode": {
    "name": "ipython",
    "version": 3
   },
   "file_extension": ".py",
   "mimetype": "text/x-python",
   "name": "python",
   "nbconvert_exporter": "python",
   "pygments_lexer": "ipython3",
   "version": "3.8.8"
  }
 },
 "nbformat": 4,
 "nbformat_minor": 5
}
